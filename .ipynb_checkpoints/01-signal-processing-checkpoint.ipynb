{
 "cells": [
  {
   "cell_type": "markdown",
   "metadata": {},
   "source": [
    "# Numpy\n",
    "\n",
    "Numpy is a python package for numerical computations. The main data structure is the *array*. As opposed to python lists, all elements of an array have the same type, and arithmetic operations are defined as you would expect for vectors and matrices in mathematics. \n",
    "\n",
    "Here are some examples  of how to create arrays:"
   ]
  },
  {
   "cell_type": "code",
   "execution_count": 1,
   "metadata": {},
   "outputs": [],
   "source": [
    "import numpy as np\n",
    "zz = np.zeros(10000)\n",
    "a = np.array([0, 1, 2, 3, 4, 5, 6, 7, 8, 9])\n",
    "b = np.arange(10)"
   ]
  },
  {
   "cell_type": "markdown",
   "metadata": {},
   "source": [
    "*Exercise*: Create a sequence of numbers with np.arange(), starting with 0 and up to (exclusively) 6, with step length 1."
   ]
  },
  {
   "cell_type": "code",
   "execution_count": null,
   "metadata": {},
   "outputs": [],
   "source": []
  },
  {
   "cell_type": "markdown",
   "metadata": {},
   "source": [
    "A similar method for creating arrays is numpy.linspace(). \n",
    "\n",
    "*Exercise*: Create a sequence of numbers with np.linspace(), starting with 0 and up to (exclusively) 0.6, with step length 0.1. "
   ]
  },
  {
   "cell_type": "code",
   "execution_count": null,
   "metadata": {},
   "outputs": [],
   "source": []
  },
  {
   "cell_type": "markdown",
   "metadata": {},
   "source": [
    "## Sine functions\n",
    "\n",
    "Numpy can be used to create a number of interesting signals, like sine waves. The function follows the equation  $y(t) = A\\sin(\\omega t)$ mit $\\omega = 2\\pi f$, where $f$ is the frequency, $A$ is the maximum amplitude and $t$ is time. \n",
    "\n",
    "The interesting property of many numpy functions is the fact that they work directly on arrays. This means, the input of the function np.sin() can be an array, and the function then calculates the sine for each element in the array. \n",
    "\n",
    "This is generally the way numpy works: All functions and arithmetic operations work directly on arrays. For example, the multiplication of a scalar and an array is the scalar vector multipliction, i.e. each element of the array is multiplied by the scalar. \n",
    "\n",
    "*Execise*: Create a sine wave with frequency 2Hz, duration of 1s, amplitude of 0.3 and a sampling frequency of 44.1 Hz.\n"
   ]
  },
  {
   "cell_type": "code",
   "execution_count": null,
   "metadata": {},
   "outputs": [],
   "source": []
  },
  {
   "cell_type": "markdown",
   "metadata": {},
   "source": [
    "# Signal processing\n",
    "## Discrete convolution\n",
    "See https://en.wikipedia.org/wiki/Convolution\n",
    "\n",
    "The convolution can be used for filtering signals. Consider the following signals (filter kernels):"
   ]
  },
  {
   "cell_type": "code",
   "execution_count": 1,
   "metadata": {},
   "outputs": [],
   "source": [
    "import numpy as np\n",
    "from scipy.stats import norm\n",
    "low = norm.pdf(np.arange(-0.5,0.6,0.1))\n",
    "high = -norm.pdf(np.arange(1,20),loc=10,scale=10)\n",
    "high[10] = 0.9\n",
    "diff = np.array([-1,1])"
   ]
  },
  {
   "cell_type": "markdown",
   "metadata": {},
   "source": [
    "Let us plot these kernels."
   ]
  },
  {
   "cell_type": "code",
   "execution_count": 2,
   "metadata": {},
   "outputs": [
    {
     "data": {
      "text/plain": [
       "[<matplotlib.lines.Line2D at 0x7f19ce2e44a8>]"
      ]
     },
     "execution_count": 2,
     "metadata": {},
     "output_type": "execute_result"
    },
    {
     "data": {
      "image/png": "[encoded data removed]",
      "text/plain": [
       "<Figure size 432x288 with 1 Axes>"
      ]
     },
     "metadata": {
      "needs_background": "light"
     },
     "output_type": "display_data"
    }
   ],
   "source": [
    "import matplotlib.pyplot as plt\n",
    "%matplotlib inline\n",
    "plt.plot(low)\n"
   ]
  },
  {
   "cell_type": "code",
   "execution_count": 20,
   "metadata": {},
   "outputs": [
    {
     "data": {
      "text/plain": [
       "[<matplotlib.lines.Line2D at 0x7f84f7586d30>]"
      ]
     },
     "execution_count": 20,
     "metadata": {},
     "output_type": "execute_result"
    },
    {
     "data": {
      "image/png": "[encoded data removed]",
      "text/plain": [
       "<Figure size 432x288 with 1 Axes>"
      ]
     },
     "metadata": {
      "needs_background": "light"
     },
     "output_type": "display_data"
    }
   ],
   "source": [
    "plt.plot(high)"
   ]
  },
  {
   "cell_type": "markdown",
   "metadata": {},
   "source": [
    "### Exercise\n",
    "\n",
    "Filter the following signals with high- low- and band pass filters and explain the result. Use the function `np.signal.convolve`. "
   ]
  },
  {
   "cell_type": "code",
   "execution_count": null,
   "metadata": {},
   "outputs": [],
   "source": []
  },
  {
   "cell_type": "markdown",
   "metadata": {},
   "source": [
    "## Discrete Fourier Transform\n",
    "* Idea: Represent the signal in a new basis\n",
    "* Use sine and cosine functions as basis elements\n",
    "* change of basis = matrix manipulation\n",
    "\n",
    "### Exercise\n",
    "\n",
    "* Create the basis transform matrix for the signal given below\n",
    "* Compute the DFT of that signal\n",
    "* Plot magnitude and phase of the result\n",
    "* Compute the DFT of the high-and low pass filtered signal, and explain the result"
   ]
  },
  {
   "cell_type": "code",
   "execution_count": null,
   "metadata": {},
   "outputs": [],
   "source": []
  }
 ],
 "metadata": {
  "kernelspec": {
   "display_name": "Python [conda env:ki2]",
   "language": "python",
   "name": "conda-env-ki2-py"
  },
  "language_info": {
   "codemirror_mode": {
    "name": "ipython",
    "version": 3
   },
   "file_extension": ".py",
   "mimetype": "text/x-python",
   "name": "python",
   "nbconvert_exporter": "python",
   "pygments_lexer": "ipython3",
   "version": "3.7.4"
  }
 },
 "nbformat": 4,
 "nbformat_minor": 2
}
