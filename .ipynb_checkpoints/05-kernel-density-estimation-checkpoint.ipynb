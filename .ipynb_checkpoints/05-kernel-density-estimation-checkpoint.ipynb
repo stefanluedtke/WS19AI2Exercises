{
 "cells": [
  {
   "cell_type": "markdown",
   "metadata": {},
   "source": [
    "# Nonlinear Decision Boundaries\n",
    "Load the data in `data.csv` as a data frame."
   ]
  },
  {
   "cell_type": "code",
   "execution_count": null,
   "metadata": {},
   "outputs": [],
   "source": []
  },
  {
   "cell_type": "markdown",
   "metadata": {},
   "source": [
    "Plot the data with matplotlib as a 2D scatter plot, using different colors for the different classes. "
   ]
  },
  {
   "cell_type": "code",
   "execution_count": null,
   "metadata": {},
   "outputs": [],
   "source": []
  },
  {
   "cell_type": "markdown",
   "metadata": {},
   "source": [
    "Which non-linear transformation $\\phi$ will lead linearly separable data in the $\\phi$-space? Compute this transformation, and plot the transformed data."
   ]
  },
  {
   "cell_type": "code",
   "execution_count": null,
   "metadata": {},
   "outputs": [],
   "source": []
  },
  {
   "cell_type": "markdown",
   "metadata": {},
   "source": [
    "# Kernel Density Estimators\n",
    "\n",
    "In the lecture, you got to know kernel density estimatiors as a non-parametric method for representing a distribution. They represent the distribution of values $x$ as follows:\n",
    "\n",
    "\\begin{equation}\n",
    "p(t) = \\frac{1}{n \\, h} \\sum_{i=1}^n \\varphi\\left(\\frac{t-x_i}{h}\\right)\n",
    "\\end{equation}\n",
    "Here,  $\\varphi$ is a windowing function, e.g. the Gauss window:\n",
    "\\begin{equation}\n",
    "\\varphi(u) = \\frac{1}{\\sqrt{2\\pi}} e^{-u^2/2}\n",
    "\\end{equation}\n",
    "\n",
    "## Exercise 1\n",
    "Implement the function `kde(t,h,x)` that estimates the kernel density estimate $p(t)$, given a point $t$, a window size $h$ and an array of training samples $x$."
   ]
  },
  {
   "cell_type": "code",
   "execution_count": null,
   "metadata": {},
   "outputs": [],
   "source": []
  },
  {
   "cell_type": "markdown",
   "metadata": {},
   "source": [
    "## Exercise 2\n",
    "\n",
    "Implement the function `classify_kde(xnew,x,classes)` that performs a classification with a kernel density estimator. Specifically, this is a Bayes classifier where the likelihood is represented by a kernel density estimator."
   ]
  },
  {
   "cell_type": "code",
   "execution_count": null,
   "metadata": {},
   "outputs": [],
   "source": []
  }
 ],
 "metadata": {
  "kernelspec": {
   "display_name": "Python [conda env:ki2]",
   "language": "python",
   "name": "conda-env-ki2-py"
  },
  "language_info": {
   "codemirror_mode": {
    "name": "ipython",
    "version": 3
   },
   "file_extension": ".py",
   "mimetype": "text/x-python",
   "name": "python",
   "nbconvert_exporter": "python",
   "pygments_lexer": "ipython3",
   "version": "3.7.4"
  }
 },
 "nbformat": 4,
 "nbformat_minor": 2
}
