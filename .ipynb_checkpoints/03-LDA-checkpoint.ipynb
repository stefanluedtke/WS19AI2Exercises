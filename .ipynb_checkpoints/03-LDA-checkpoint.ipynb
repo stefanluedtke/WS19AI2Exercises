{
 "cells": [
  {
   "cell_type": "markdown",
   "metadata": {},
   "source": [
    "# Quadratic Discriminant Analysis\n",
    "\n",
    "In this exercise, you will implement a QDA on your own. The QDA computes $p(\\omega|x)=\\frac{p(x|\\omega)*p(\\omega)}{p(x)}$, and assumes that the likelihood $p(x|\\omega)$ follows a normal distribution (conditional on each class $\\omega$). "
   ]
  },
  {
   "cell_type": "markdown",
   "metadata": {},
   "source": [
    "## Exercise\n",
    "A fisher asks you for help in classifying fish. Recently, he catched the following fish:\n",
    "\n",
    "| Length (m)    | Type          | \n",
    "| ------------- |-------------  |\n",
    "| 1.3           | sea bass       |\n",
    "| 0.7           | salmon       |\n",
    "| 0.62           | salmon      |\n",
    "| 0.9           | salmon       |\n",
    "| 0.91          | sea bass       |\n",
    "| 0.31          | herring       |\n",
    "| 0.26           | herring       |\n",
    "\n",
    "* Calculate the class priors $p(\\omega)$ for each class of fish\n",
    "* Calculate the parameters $\\mu$ and $\\sigma^2$ for the likelihoods $p(x|\\omega)$. \n",
    "* The fisher catches a new fish with length $x = 0.82 m$. Calculate the posteriori probability $p(\\omega|x)$ for each class. Which class is most likely?"
   ]
  },
  {
   "cell_type": "markdown",
   "metadata": {},
   "source": []
  },
  {
   "cell_type": "markdown",
   "metadata": {},
   "source": [
    "## Exercise \n",
    "\n",
    "Implement a function `priors(classes)` that calculates a prior $p(x)$ for each class, given a vector of class labels.\n",
    "The input should be an array of classes, e.g. `np.array([\"stand\",\"sit\",\"sit\",\"stand\"])`. The output should be a pandas data frame with columns `class` and `prior`.\n"
   ]
  },
  {
   "cell_type": "code",
   "execution_count": null,
   "metadata": {},
   "outputs": [],
   "source": []
  },
  {
   "cell_type": "markdown",
   "metadata": {},
   "source": [
    "## Exercise\n",
    "\n",
    "Implement a function `likelihood(data)`, that takes a data frame consisting of a column $omega$ and a column $x$, and estimates the parameters of the likelihood $p(x|\\omega)$ for each class $\\omega$, i.e. that returns a mean and a variance for each class. Thus, the output should be a data frame with columns `omega`, `mean` and `variance`. \n",
    "\n",
    "Plot the likelihoods for each class. \n"
   ]
  },
  {
   "cell_type": "code",
   "execution_count": null,
   "metadata": {},
   "outputs": [],
   "source": []
  },
  {
   "cell_type": "markdown",
   "metadata": {},
   "source": [
    "## Exercise\n",
    "Implement a function `myqda(newdat,lik,priors)`, that returns the most likely class for a new observation `newdat`. \n",
    "Test your implementation on the dataset `features1.arff`. Train your QDA (i.e. compute priors and likelihood parameters), and then classify the data. How good is your classification?  \n"
   ]
  },
  {
   "cell_type": "code",
   "execution_count": null,
   "metadata": {},
   "outputs": [],
   "source": []
  }
 ],
 "metadata": {
  "kernelspec": {
   "display_name": "Python [conda env:ki2]",
   "language": "python",
   "name": "conda-env-ki2-py"
  },
  "language_info": {
   "codemirror_mode": {
    "name": "ipython",
    "version": 3
   },
   "file_extension": ".py",
   "mimetype": "text/x-python",
   "name": "python",
   "nbconvert_exporter": "python",
   "pygments_lexer": "ipython3",
   "version": "3.7.4"
  }
 },
 "nbformat": 4,
 "nbformat_minor": 2
}
