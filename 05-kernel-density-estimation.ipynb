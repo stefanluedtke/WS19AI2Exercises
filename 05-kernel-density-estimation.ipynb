{
 "cells": [
  {
   "cell_type": "markdown",
   "metadata": {},
   "source": [
    "# Nonlinear Decision Boundaries\n",
    "Load the data in `data.csv` as a data frame."
   ]
  },
  {
   "cell_type": "code",
   "execution_count": 1,
   "metadata": {},
   "outputs": [
    {
     "data": {
      "text/html": [
       "<div>\n",
       "<style scoped>\n",
       "    .dataframe tbody tr th:only-of-type {\n",
       "        vertical-align: middle;\n",
       "    }\n",
       "\n",
       "    .dataframe tbody tr th {\n",
       "        vertical-align: top;\n",
       "    }\n",
       "\n",
       "    .dataframe thead th {\n",
       "        text-align: right;\n",
       "    }\n",
       "</style>\n",
       "<table border=\"1\" class=\"dataframe\">\n",
       "  <thead>\n",
       "    <tr style=\"text-align: right;\">\n",
       "      <th></th>\n",
       "      <th>x</th>\n",
       "      <th>y</th>\n",
       "      <th>c</th>\n",
       "    </tr>\n",
       "  </thead>\n",
       "  <tbody>\n",
       "    <tr>\n",
       "      <th>0</th>\n",
       "      <td>0.051920</td>\n",
       "      <td>-0.378874</td>\n",
       "      <td>A</td>\n",
       "    </tr>\n",
       "    <tr>\n",
       "      <th>1</th>\n",
       "      <td>-0.077194</td>\n",
       "      <td>-0.391871</td>\n",
       "      <td>A</td>\n",
       "    </tr>\n",
       "    <tr>\n",
       "      <th>2</th>\n",
       "      <td>-0.083993</td>\n",
       "      <td>-0.418196</td>\n",
       "      <td>A</td>\n",
       "    </tr>\n",
       "    <tr>\n",
       "      <th>3</th>\n",
       "      <td>-0.112411</td>\n",
       "      <td>-0.355540</td>\n",
       "      <td>A</td>\n",
       "    </tr>\n",
       "    <tr>\n",
       "      <th>4</th>\n",
       "      <td>-0.126714</td>\n",
       "      <td>-0.417728</td>\n",
       "      <td>A</td>\n",
       "    </tr>\n",
       "    <tr>\n",
       "      <th>...</th>\n",
       "      <td>...</td>\n",
       "      <td>...</td>\n",
       "      <td>...</td>\n",
       "    </tr>\n",
       "    <tr>\n",
       "      <th>95</th>\n",
       "      <td>0.184146</td>\n",
       "      <td>-0.572692</td>\n",
       "      <td>B</td>\n",
       "    </tr>\n",
       "    <tr>\n",
       "      <th>96</th>\n",
       "      <td>0.095896</td>\n",
       "      <td>-0.573366</td>\n",
       "      <td>B</td>\n",
       "    </tr>\n",
       "    <tr>\n",
       "      <th>97</th>\n",
       "      <td>0.060812</td>\n",
       "      <td>-0.652355</td>\n",
       "      <td>B</td>\n",
       "    </tr>\n",
       "    <tr>\n",
       "      <th>98</th>\n",
       "      <td>0.047930</td>\n",
       "      <td>-0.594220</td>\n",
       "      <td>B</td>\n",
       "    </tr>\n",
       "    <tr>\n",
       "      <th>99</th>\n",
       "      <td>0.013607</td>\n",
       "      <td>-0.539394</td>\n",
       "      <td>B</td>\n",
       "    </tr>\n",
       "  </tbody>\n",
       "</table>\n",
       "<p>200 rows × 3 columns</p>\n",
       "</div>"
      ],
      "text/plain": [
       "           x         y  c\n",
       "0   0.051920 -0.378874  A\n",
       "1  -0.077194 -0.391871  A\n",
       "2  -0.083993 -0.418196  A\n",
       "3  -0.112411 -0.355540  A\n",
       "4  -0.126714 -0.417728  A\n",
       "..       ...       ... ..\n",
       "95  0.184146 -0.572692  B\n",
       "96  0.095896 -0.573366  B\n",
       "97  0.060812 -0.652355  B\n",
       "98  0.047930 -0.594220  B\n",
       "99  0.013607 -0.539394  B\n",
       "\n",
       "[200 rows x 3 columns]"
      ]
     },
     "execution_count": 1,
     "metadata": {},
     "output_type": "execute_result"
    }
   ],
   "source": [
    "# creation of the dataset\n",
    "import numpy as np\n",
    "import pandas as pd\n",
    "import matplotlib.pyplot as plt\n",
    "%matplotlib inline\n",
    "# get data between -pi and pi\n",
    "dat = np.linspace(-np.pi,np.pi,100)\n",
    "# transform by sine and cosine\n",
    "datx = 0.4 * np.sin(dat) + np.random.normal(scale = 0.03,size=len(dat))\n",
    "daty = 0.4 * np.cos(dat) + np.random.normal(scale = 0.03,size=len(dat))\n",
    "\n",
    "datx2 = 0.6 * np.sin(dat) + np.random.normal(scale = 0.03,size=len(dat))\n",
    "daty2 = 0.6 * np.cos(dat) + np.random.normal(scale = 0.03,size=len(dat))\n",
    "\n",
    "# plot and save the resulting data\n",
    "#plt.plot(datx,daty,'o')\n",
    "df1 = pd.DataFrame({'x':datx,'y':daty,'c':np.repeat([\"A\"],100)})\n",
    "df1\n",
    "df2 = pd.DataFrame({'x':datx2,'y':daty2,'c':np.repeat([\"B\"],100)})\n",
    "df2\n",
    "\n",
    "df = pd.concat([df1,df2],sort=False)\n",
    "df\n",
    "#df.to_csv(\"data.csv\",index=False)"
   ]
  },
  {
   "cell_type": "markdown",
   "metadata": {},
   "source": [
    "Plot the data with matplotlib as a 2D scatter plot, using different colors for the different classes. "
   ]
  },
  {
   "cell_type": "code",
   "execution_count": 2,
   "metadata": {},
   "outputs": [
    {
     "data": {
      "text/plain": [
       "[<matplotlib.lines.Line2D at 0x7f6840e9e990>]"
      ]
     },
     "execution_count": 2,
     "metadata": {},
     "output_type": "execute_result"
    },
    {
     "data": {
      "image/png": "[encoded data removed]",
      "text/plain": [
       "<Figure size 432x288 with 1 Axes>"
      ]
     },
     "metadata": {
      "needs_background": "light"
     },
     "output_type": "display_data"
    }
   ],
   "source": [
    "import pandas as pd\n",
    "import matplotlib.pyplot as plt\n",
    "\n",
    "\n",
    "plt.plot(df.loc[df.c == \"A\",'x'],df.loc[df.c == \"A\",'y'],'bo')\n",
    "plt.plot(df.loc[df.c == \"B\",'x'],df.loc[df.c == \"B\",'y'],'ro')"
   ]
  },
  {
   "cell_type": "markdown",
   "metadata": {},
   "source": [
    "Which non-linear transformation $\\phi$ will lead linearly separable data in the $\\phi$-space? Compute this transformation, and plot the transformed data."
   ]
  },
  {
   "cell_type": "code",
   "execution_count": 3,
   "metadata": {},
   "outputs": [
    {
     "data": {
      "text/plain": [
       "[<matplotlib.lines.Line2D at 0x7f6840dccbd0>]"
      ]
     },
     "execution_count": 3,
     "metadata": {},
     "output_type": "execute_result"
    },
    {
     "data": {
      "image/png": "[encoded data removed]",
      "text/plain": [
       "<Figure size 432x288 with 1 Axes>"
      ]
     },
     "metadata": {
      "needs_background": "light"
     },
     "output_type": "display_data"
    }
   ],
   "source": [
    "df[\"trans\"] = np.arctan2(df.x,df.y)\n",
    "df[\"trans2\"] = np.sqrt(np.square(df.x)+np.square(df.y))\n",
    "df\n",
    "plt.plot(df.loc[df.c == \"A\",'trans'],df.loc[df.c == \"A\",'trans2'],'bo')\n",
    "plt.plot(df.loc[df.c == \"B\",'trans'],df.loc[df.c == \"B\",'trans2'],'ro')"
   ]
  },
  {
   "cell_type": "markdown",
   "metadata": {},
   "source": [
    "# Kernel Density Estimators\n",
    "\n",
    "In the lecture, you got to know kernel density estimatiors as a non-parametric method for representing a distribution. They represent the distribution of values $x$ as follows:\n",
    "\n",
    "\\begin{equation}\n",
    "p(t) = \\frac{1}{n \\, h} \\sum_{i=1}^n \\varphi\\left(\\frac{t-x_i}{h}\\right)\n",
    "\\end{equation}\n",
    "Here,  $\\varphi$ is a windowing function, e.g. the Gauss window:\n",
    "\\begin{equation}\n",
    "\\varphi(u) = \\frac{1}{\\sqrt{2\\pi}} e^{-u^2/2}\n",
    "\\end{equation}\n",
    "\n",
    "## Exercise 1\n",
    "Implement the function `kde(t,h,x)` that estimates the kernel density estimate $p(t)$, given a point $t$, a window size $h$ and an array of training samples $x$."
   ]
  },
  {
   "cell_type": "code",
   "execution_count": 9,
   "metadata": {},
   "outputs": [
    {
     "data": {
      "text/plain": [
       "[<matplotlib.lines.Line2D at 0x7f0b4b948b10>]"
      ]
     },
     "execution_count": 9,
     "metadata": {},
     "output_type": "execute_result"
    },
    {
     "data": {
      "image/png": "[encoded data removed]",
      "text/plain": [
       "<Figure size 432x288 with 1 Axes>"
      ]
     },
     "metadata": {
      "needs_background": "light"
     },
     "output_type": "display_data"
    }
   ],
   "source": [
    "import math\n",
    "import numpy as np\n",
    "import matplotlib.pyplot as plt\n",
    "\n",
    "def kde(t,h,x):\n",
    "    n = len(x)\n",
    "    insum = [k1((t-xj)/h) for xj in x]\n",
    "    return 1/(n*h) * sum(insum)\n",
    "\n",
    "def k1(t):\n",
    "    return 1/math.sqrt(2*math.pi) * math.exp(-1/2 * t**2)\n",
    "\n",
    "example = np.concatenate((np.random.normal(0,1,100),np.random.normal(5,1,100)))\n",
    "\n",
    "dens = [kde(t,0.01,example) for t in np.arange(-2,8,0.05)]\n",
    "\n",
    "plt.plot(dens)"
   ]
  },
  {
   "cell_type": "markdown",
   "metadata": {},
   "source": [
    "## Exercise 2\n",
    "\n",
    "Implement the function `classify_kde(xnew,x,classes)` that performs a classification with a kernel density estimator. Specifically, this is a Bayes classifier where the likelihood is represented by a kernel density estimator."
   ]
  },
  {
   "cell_type": "code",
   "execution_count": 8,
   "metadata": {},
   "outputs": [
    {
     "data": {
      "text/plain": [
       "0.96045197740113"
      ]
     },
     "execution_count": 8,
     "metadata": {},
     "output_type": "execute_result"
    }
   ],
   "source": [
    "import pandas as pd\n",
    "from scipy.io import arff\n",
    "\n",
    "def classify_kde(xnew,x,classes):\n",
    "    uclasses = np.unique(classes)\n",
    "    def getDens(c):\n",
    "        xt = x[classes == c]\n",
    "        return kde(xnew,0.01,xt)\n",
    "    dens = np.array([getDens(c) for c in uclasses])\n",
    "    prior = np.array([sum(classes == c)/len(classes) for c in uclasses])\n",
    "    return uclasses[np.argmax(dens * prior)]\n",
    "\n",
    "data = arff.loadarff('features1.arff')\n",
    "df = pd.DataFrame(data[0])\n",
    "feat = df[\"AccX_mean\"]\n",
    "cl = df[\"class\"]\n",
    "\n",
    "p = [classify_kde(x,feat,cl) for x in feat]\n",
    "np.mean(p == cl)"
   ]
  }
 ],
 "metadata": {
  "kernelspec": {
   "display_name": "Python [conda env:ki2]",
   "language": "python",
   "name": "conda-env-ki2-py"
  },
  "language_info": {
   "codemirror_mode": {
    "name": "ipython",
    "version": 3
   },
   "file_extension": ".py",
   "mimetype": "text/x-python",
   "name": "python",
   "nbconvert_exporter": "python",
   "pygments_lexer": "ipython3",
   "version": "3.7.4"
  }
 },
 "nbformat": 4,
 "nbformat_minor": 2
}
